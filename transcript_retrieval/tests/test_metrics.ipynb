{
 "cells": [
  {
   "cell_type": "code",
   "execution_count": 11,
   "metadata": {},
   "outputs": [
    {
     "name": "stdout",
     "output_type": "stream",
     "text": [
      "The autoreload extension is already loaded. To reload it, use:\n",
      "  %reload_ext autoreload\n"
     ]
    }
   ],
   "source": [
    "%load_ext autoreload\n",
    "%autoreload 2"
   ]
  },
  {
   "cell_type": "code",
   "execution_count": 12,
   "metadata": {},
   "outputs": [],
   "source": [
    "import sys\n",
    "\n",
    "sys.path.append(\"../\")\n",
    "from evaluation.metrics import hit_k,mean_hit_k, mean_average_precision_k, average_precision_k"
   ]
  },
  {
   "cell_type": "code",
   "execution_count": 31,
   "metadata": {},
   "outputs": [
    {
     "data": {
      "text/plain": [
       "1.0"
      ]
     },
     "execution_count": 31,
     "metadata": {},
     "output_type": "execute_result"
    }
   ],
   "source": [
    "predicted_list = [[1, 2, 3], [7, 8, 9], [0, 3, 5, 7, 9, 2]]\n",
    "labeled_list = [[1, 4, 5], [7, 8, 9], [1, 7, 2]]\n",
    "\n",
    "# hitk(predicted_list[0], labeled_list[0], 3)\n",
    "# mean_hit_k(predicted_list, labeled_list, 1)\n",
    "# mean_hitk(predicted_list, labeled_list, 3)\n",
    "predicted = [1, 2, 3, 6, 5, 3, 3, 3, 2]\n",
    "labeled = [1, 2, 3, 4, 6]\n",
    "average_precision_k(predicted, labeled, 8)"
   ]
  }
 ],
 "metadata": {
  "kernelspec": {
   "display_name": "torch2",
   "language": "python",
   "name": "python3"
  },
  "language_info": {
   "codemirror_mode": {
    "name": "ipython",
    "version": 3
   },
   "file_extension": ".py",
   "mimetype": "text/x-python",
   "name": "python",
   "nbconvert_exporter": "python",
   "pygments_lexer": "ipython3",
   "version": "3.11.5"
  }
 },
 "nbformat": 4,
 "nbformat_minor": 2
}
