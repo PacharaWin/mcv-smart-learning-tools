{
 "cells": [
  {
   "cell_type": "code",
   "execution_count": 24,
   "metadata": {},
   "outputs": [
    {
     "name": "stdout",
     "output_type": "stream",
     "text": [
      "The autoreload extension is already loaded. To reload it, use:\n",
      "  %reload_ext autoreload\n"
     ]
    }
   ],
   "source": [
    "%load_ext autoreload\n",
    "%autoreload 2"
   ]
  },
  {
   "cell_type": "code",
   "execution_count": 25,
   "metadata": {},
   "outputs": [],
   "source": [
    "import sys\n",
    "sys.path.append('../')\n",
    "from evaluation.metrics import hitk, mean_hitk, apk, mapk"
   ]
  },
  {
   "cell_type": "code",
   "execution_count": 35,
   "metadata": {},
   "outputs": [],
   "source": [
    "predicted_list = [['A', 'B', 'C'], ['X', 'Y', 'Z'], ['P', 'Q', 'R']]\n",
    "labeled_list = [['A', 'D', 'E'], ['X', 'Y', 'Z'], ['R', 'S', 'T']]\n",
    "k = 2\n",
    "\n",
    "# hitk(predicted_list[0], labeled_list[0], 1)\n",
    "# mean_hitk(predicted_list[0], labeled_list[0], 1)\n",
    "# apk(predicted_list[0], labeled_list[0], 3)"
   ]
  }
 ],
 "metadata": {
  "kernelspec": {
   "display_name": "torch2",
   "language": "python",
   "name": "python3"
  },
  "language_info": {
   "codemirror_mode": {
    "name": "ipython",
    "version": 3
   },
   "file_extension": ".py",
   "mimetype": "text/x-python",
   "name": "python",
   "nbconvert_exporter": "python",
   "pygments_lexer": "ipython3",
   "version": "3.11.5"
  }
 },
 "nbformat": 4,
 "nbformat_minor": 2
}
