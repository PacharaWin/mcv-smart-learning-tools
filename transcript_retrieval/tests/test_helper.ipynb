{
 "cells": [
  {
   "cell_type": "code",
   "execution_count": 10,
   "metadata": {},
   "outputs": [
    {
     "name": "stdout",
     "output_type": "stream",
     "text": [
      "The autoreload extension is already loaded. To reload it, use:\n",
      "  %reload_ext autoreload\n"
     ]
    }
   ],
   "source": [
    "%load_ext autoreload\n",
    "%autoreload 2"
   ]
  },
  {
   "cell_type": "code",
   "execution_count": 11,
   "metadata": {},
   "outputs": [],
   "source": [
    "import sys\n",
    "import pandas as pd\n",
    "\n",
    "sys.path.append(\"../\")\n",
    "from utils.helpers import extract_keyword_query, extract_question_query, extract_query_from_df"
   ]
  },
  {
   "cell_type": "code",
   "execution_count": 12,
   "metadata": {},
   "outputs": [
    {
     "data": {
      "text/plain": [
       "Index(['text', 'edited_text', 'start_time', 'stop_time', 'total_time',\n",
       "       'token_count', 'keyword_linear program',\n",
       "       'keyword_Assumption of linear program',\n",
       "       'keyword_standard form of linear program',\n",
       "       'keyword_basic feasible solution', 'keyword_direction of unboundedness',\n",
       "       'question_optimization เอาไปใช้ทำอะไร',\n",
       "       'question_ประเภทของปัญหา optimization แบบ dynamic กับ static ต่างกันยังไง',\n",
       "       'question_ทำไม feasible region ของ linear program ถึงเป็น convex set ทั้งหมด',\n",
       "       'question_จะเปลี่ยน constraints เป็น standard form ยังไง',\n",
       "       'question_direction of unboundedness หายังไง'],\n",
       "      dtype='object')"
      ]
     },
     "execution_count": 12,
     "metadata": {},
     "output_type": "execute_result"
    }
   ],
   "source": [
    "df = pd.read_csv(\"../data/labeled/labeled_transcript_01.csv\", index_col=0)\n",
    "df.columns"
   ]
  },
  {
   "cell_type": "code",
   "execution_count": 13,
   "metadata": {},
   "outputs": [
    {
     "data": {
      "text/plain": [
       "{'keyword': ['linear program',\n",
       "  'Assumption of linear program',\n",
       "  'standard form of linear program',\n",
       "  'basic feasible solution',\n",
       "  'direction of unboundedness'],\n",
       " 'question': ['optimization เอาไปใช้ทำอะไร',\n",
       "  'ประเภทของปัญหา optimization แบบ dynamic กับ static ต่างกันยังไง',\n",
       "  'ทำไม feasible region ของ linear program ถึงเป็น convex set ทั้งหมด',\n",
       "  'จะเปลี่ยน constraints เป็น standard form ยังไง',\n",
       "  'direction of unboundedness หายังไง']}"
      ]
     },
     "execution_count": 13,
     "metadata": {},
     "output_type": "execute_result"
    }
   ],
   "source": [
    "extract_query_from_df(df)"
   ]
  }
 ],
 "metadata": {
  "kernelspec": {
   "display_name": "torch2",
   "language": "python",
   "name": "python3"
  },
  "language_info": {
   "codemirror_mode": {
    "name": "ipython",
    "version": 3
   },
   "file_extension": ".py",
   "mimetype": "text/x-python",
   "name": "python",
   "nbconvert_exporter": "python",
   "pygments_lexer": "ipython3",
   "version": "3.11.5"
  }
 },
 "nbformat": 4,
 "nbformat_minor": 2
}
