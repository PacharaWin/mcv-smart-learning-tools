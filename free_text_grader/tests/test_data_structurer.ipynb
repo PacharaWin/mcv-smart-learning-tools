{
 "cells": [
  {
   "cell_type": "code",
   "execution_count": 50,
   "metadata": {},
   "outputs": [
    {
     "name": "stdout",
     "output_type": "stream",
     "text": [
      "The autoreload extension is already loaded. To reload it, use:\n",
      "  %reload_ext autoreload\n"
     ]
    }
   ],
   "source": [
    "%load_ext autoreload\n",
    "%autoreload 2"
   ]
  },
  {
   "cell_type": "code",
   "execution_count": 51,
   "metadata": {},
   "outputs": [],
   "source": [
    "import sys\n",
    "import pandas as pd\n",
    "\n",
    "sys.path.append(\"../\")\n",
    "from utils.data_utils import preprocess_score_df, preprocess_pattern_map_df\n",
    "from utils.data_structurer import DataStructurer"
   ]
  },
  {
   "cell_type": "code",
   "execution_count": 52,
   "metadata": {},
   "outputs": [],
   "source": [
    "score_df = pd.read_csv(\"../data/csa_score_1.csv\")\n",
    "pattern_map_df = pd.read_csv(\"../data/pattern_map.csv\")\n",
    "score_df = preprocess_score_df(score_df)\n",
    "pattern_map_df = preprocess_pattern_map_df(pattern_map_df)"
   ]
  },
  {
   "cell_type": "code",
   "execution_count": 53,
   "metadata": {},
   "outputs": [],
   "source": [
    "structurer = DataStructurer(score_df, pattern_map_df)"
   ]
  },
  {
   "cell_type": "code",
   "execution_count": 54,
   "metadata": {},
   "outputs": [
    {
     "data": {
      "text/plain": [
       "'Intel’s planned ISA, the 8800, failed to become the future which would last the lifetime of Intel. Explain briefly why it happened, and how the 8086 replaced it.'"
      ]
     },
     "execution_count": 54,
     "metadata": {},
     "output_type": "execute_result"
    }
   ],
   "source": [
    "structurer.get_question(\n",
    "    assignment_id=1122128, \n",
    "    question_number=10\n",
    "    )"
   ]
  },
  {
   "cell_type": "code",
   "execution_count": 61,
   "metadata": {},
   "outputs": [
    {
     "data": {
      "text/plain": [
       "4    Explain why DSAs can achieve higher performanc...\n",
       "5    Explain why DSAs can achieve higher performanc...\n",
       "6    Explain the new version(8806) that make 8800 b...\n",
       "7    Explain the new version(8806) that make 8800 b...\n",
       "Name: pattern, dtype: object"
      ]
     },
     "execution_count": 61,
     "metadata": {},
     "output_type": "execute_result"
    }
   ],
   "source": [
    "structurer.get_pattern(\n",
    "    assignment_id=1122128,\n",
    "    question_number=10,\n",
    "    pattern_number=-1\n",
    "    )"
   ]
  }
 ],
 "metadata": {
  "kernelspec": {
   "display_name": "torch2",
   "language": "python",
   "name": "python3"
  },
  "language_info": {
   "codemirror_mode": {
    "name": "ipython",
    "version": 3
   },
   "file_extension": ".py",
   "mimetype": "text/x-python",
   "name": "python",
   "nbconvert_exporter": "python",
   "pygments_lexer": "ipython3",
   "version": "3.11.5"
  }
 },
 "nbformat": 4,
 "nbformat_minor": 2
}
