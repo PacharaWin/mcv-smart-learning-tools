{
 "cells": [
  {
   "cell_type": "code",
   "execution_count": 21,
   "metadata": {},
   "outputs": [
    {
     "name": "stdout",
     "output_type": "stream",
     "text": [
      "Compute the overall score of the response based on the provided criteria.\n",
      "###Criteria### \n",
      "Explain the similarities and differences between Agile software development and Agile hardware development. Show only total score (score is in [0, 2.5, 5]). \n",
      "\tKW: \n",
      "Prototype\n",
      "\tRubrics: \n",
      "Explain at least one key similarity 2.5 point the key is\n",
      " - Iterative and incremental development\n",
      " - Customer centric (adapt from customer feedback)\n",
      " - Cross functional teams\n",
      " - Adaptive to change\n",
      "Explain at least one key difference 2.5 point the key is\n",
      " - Agile software development deals with intangible product (change are easy), but agile hardware development deals with intangible product (hard to change)\n",
      " - Lead Time (software development have shorter lead time compared to hardware development)\n",
      " - Prototyping (prototyping in hardware development is a crucial step, but in agile software development is less signification step compare to hardware development)\n",
      "\n",
      "###Answer### \n",
      "\"Hardware development often has longer lead times and higher costs associated with prototyping and manufacturing. Agile hardware development may face challenges in terms of quick turnaround times and cost-effective iterations compared to Agile software development.\n",
      "The similarity is it is a method that divide development process into steps in each iteration.\"\n",
      "###Score###\n",
      "\n"
     ]
    }
   ],
   "source": [
    "criteria = \"\"\"\n",
    "Explain the similarities and differences between Agile software development and Agile hardware development. Show only total score (score is in [0, 2.5, 5]). \n",
    "\tKW: \n",
    "Prototype\n",
    "\tRubrics: \n",
    "Explain at least one key similarity 2.5 point the key is\n",
    " - Iterative and incremental development\n",
    " - Customer centric (adapt from customer feedback)\n",
    " - Cross functional teams\n",
    " - Adaptive to change\n",
    "Explain at least one key difference 2.5 point the key is\n",
    " - Agile software development deals with intangible product (change are easy), but agile hardware development deals with intangible product (hard to change)\n",
    " - Lead Time (software development have shorter lead time compared to hardware development)\n",
    " - Prototyping (prototyping in hardware development is a crucial step, but in agile software development is less signification step compare to hardware development)\n",
    "\"\"\"\n",
    "\n",
    "answer = \"\"\"\n",
    "\"Hardware development often has longer lead times and higher costs associated with prototyping and manufacturing. Agile hardware development may face challenges in terms of quick turnaround times and cost-effective iterations compared to Agile software development.\n",
    "The similarity is it is a method that divide development process into steps in each iteration.\"\n",
    "\"\"\"\n",
    "def preprocess(input_string):\n",
    "    preprocessed_string = input_string.strip()\n",
    "    preprocessed_string = preprocessed_string.strip(\"\\n\")\n",
    "    return preprocessed_string\n",
    "\n",
    "criteria = preprocess(criteria)\n",
    "answer = preprocess(answer)\n",
    "\n",
    "prompt = f\"\"\"Compute the overall score of the response based on the provided criteria.\n",
    "###Criteria### \n",
    "{criteria}\n",
    "\n",
    "###Answer### \n",
    "{answer}\n",
    "###Score###\n",
    "\"\"\"\n",
    "print(prompt)"
   ]
  },
  {
   "cell_type": "code",
   "execution_count": null,
   "metadata": {},
   "outputs": [],
   "source": []
  }
 ],
 "metadata": {
  "kernelspec": {
   "display_name": "torch2",
   "language": "python",
   "name": "python3"
  },
  "language_info": {
   "codemirror_mode": {
    "name": "ipython",
    "version": 3
   },
   "file_extension": ".py",
   "mimetype": "text/x-python",
   "name": "python",
   "nbconvert_exporter": "python",
   "pygments_lexer": "ipython3",
   "version": "3.11.3"
  }
 },
 "nbformat": 4,
 "nbformat_minor": 2
}
