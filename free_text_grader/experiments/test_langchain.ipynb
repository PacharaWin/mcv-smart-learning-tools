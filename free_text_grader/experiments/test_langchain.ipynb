{
 "cells": [
  {
   "cell_type": "code",
   "execution_count": 1,
   "metadata": {},
   "outputs": [
    {
     "data": {
      "text/plain": [
       "True"
      ]
     },
     "execution_count": 1,
     "metadata": {},
     "output_type": "execute_result"
    }
   ],
   "source": [
    "import os\n",
    "from dotenv import load_dotenv\n",
    "\n",
    "# require \"HUGGINGFACEHUB_API_TOKEN\" in .env file!\n",
    "load_dotenv()"
   ]
  },
  {
   "cell_type": "code",
   "execution_count": 2,
   "metadata": {},
   "outputs": [],
   "source": [
    "from langchain.llms import HuggingFaceHub\n",
    "from langchain import PromptTemplate, LLMChain\n",
    "from langchain.llms.huggingface_pipeline import HuggingFacePipeline"
   ]
  },
  {
   "cell_type": "code",
   "execution_count": 3,
   "metadata": {},
   "outputs": [],
   "source": [
    "def preprocess(input_string):\n",
    "    preprocessed_string = input_string.strip()\n",
    "    preprocessed_string = preprocessed_string.strip(\"\\n\")\n",
    "    return preprocessed_string"
   ]
  },
  {
   "cell_type": "code",
   "execution_count": 4,
   "metadata": {},
   "outputs": [],
   "source": [
    "template = \"\"\"Compute the overall score of the response based on the provided criteria.\n",
    "###Criteria### \n",
    "{criteria}\n",
    "\n",
    "###Answer### \n",
    "{answer}\n",
    "\n",
    "###Score###\n",
    "\"\"\"\n",
    "\n",
    "template = preprocess(template)\n",
    "prompt = PromptTemplate(template=template, input_variables=[\"criteria\", \"answer\"])"
   ]
  },
  {
   "cell_type": "code",
   "execution_count": 5,
   "metadata": {},
   "outputs": [
    {
     "name": "stderr",
     "output_type": "stream",
     "text": [
      "c:\\Users\\supak\\anaconda3\\envs\\torch2\\Lib\\site-packages\\huggingface_hub\\utils\\_deprecation.py:127: FutureWarning: '__init__' (from 'huggingface_hub.inference_api') is deprecated and will be removed from version '1.0'. `InferenceApi` client is deprecated in favor of the more feature-complete `InferenceClient`. Check out this guide to learn how to convert your script to use it: https://huggingface.co/docs/huggingface_hub/guides/inference#legacy-inferenceapi-client.\n",
      "  warnings.warn(warning_message, FutureWarning)\n"
     ]
    }
   ],
   "source": [
    "llm = HuggingFaceHub(\n",
    "        # repo_id=\"google/flan-t5-base\",\n",
    "        repo_id=\"google/flan-t5-large\",\n",
    "        # repo_id=\"openthaigpt/openthaigpt-1.0.0-alpha-7b-chat-ckpt-hf\"\n",
    "        # repo_id=\"migtissera/Tess-M-Creative-v1.0\",\n",
    "        # repo_id=\"google/flan-t5-xl\",\n",
    "        # model_kwargs={\n",
    "        #     \"temperature\": 0,\n",
    "        #     \"max_length\": 128,\n",
    "        # }\n",
    "    )\n",
    "# from accelerate import Accelerator\n",
    "# from langchain.llms import CTransformers\n",
    "\n",
    "# accelerator = Accelerator()\n",
    "\n",
    "# config = {'max_new_tokens': 512, 'repetition_penalty': 1.1, 'context_length': 8000, 'temperature':0, 'gpu_layers':50}\n",
    "# llm = CTransformers(model = \"./codellama-7b.Q4_0.gguf\", model_type = \"llama\", gpu_layers=50, config=config)\n",
    "\n",
    "llm_chain = LLMChain(\n",
    "    prompt=prompt,\n",
    "    llm=llm,\n",
    ")"
   ]
  },
  {
   "cell_type": "code",
   "execution_count": 11,
   "metadata": {},
   "outputs": [
    {
     "name": "stdout",
     "output_type": "stream",
     "text": [
      "3\n"
     ]
    }
   ],
   "source": [
    "criteria=\"\"\"\n",
    "+ 2 point for having risk mitigation.\n",
    "+ 3 point for having data-driven decision.\n",
    "\"\"\"\n",
    "answer=\"\"\"Data-Driven Decisions and Risk Mitigation\n",
    "\"\"\"\n",
    "\n",
    "criteria = preprocess(criteria)\n",
    "answer = preprocess(answer)\n",
    "\n",
    "result = llm_chain.run({\n",
    "    \"criteria\": criteria,\n",
    "    \"answer\": answer\n",
    "    })\n",
    "\n",
    "# print(prompt.format(answer=answer,  criteria=criteria))\n",
    "print(result)"
   ]
  }
 ],
 "metadata": {
  "kernelspec": {
   "display_name": "torch2",
   "language": "python",
   "name": "python3"
  },
  "language_info": {
   "codemirror_mode": {
    "name": "ipython",
    "version": 3
   },
   "file_extension": ".py",
   "mimetype": "text/x-python",
   "name": "python",
   "nbconvert_exporter": "python",
   "pygments_lexer": "ipython3",
   "version": "3.11.5"
  }
 },
 "nbformat": 4,
 "nbformat_minor": 2
}
