{
 "cells": [
  {
   "cell_type": "code",
   "execution_count": 1,
   "metadata": {},
   "outputs": [],
   "source": [
    "from utils.dowload_data_utils import download_file_from_drive"
   ]
  },
  {
   "cell_type": "code",
   "execution_count": 5,
   "metadata": {},
   "outputs": [
    {
     "name": "stderr",
     "output_type": "stream",
     "text": [
      "c:\\Users\\supak\\anaconda3\\envs\\torch2\\Lib\\site-packages\\gdown\\parse_url.py:44: UserWarning: You specified a Google Drive link that is not the correct link to download a file. You might want to try `--fuzzy` option or the following url: https://drive.google.com/uc?id=1ArAIRD0wr4am7qXZWpnw_ZNjfFYqVloS\n",
      "  warnings.warn(\n",
      "Downloading...\n",
      "From: https://drive.google.com/file/d/1ArAIRD0wr4am7qXZWpnw_ZNjfFYqVloS/view?usp=drive_link\n",
      "To: d:\\Chula\\Year4_2\\capstone\\mcv-smart-learning-tools\\common\\data\\transcript_01.csv\n",
      "84.9kB [00:00, 57.7MB/s]"
     ]
    },
    {
     "name": "stdout",
     "output_type": "stream",
     "text": [
      "File downloaded to ../data/transcript_01.csv\n"
     ]
    },
    {
     "name": "stderr",
     "output_type": "stream",
     "text": [
      "\n"
     ]
    }
   ],
   "source": [
    "url = \"https://drive.google.com/file/d/1ArAIRD0wr4am7qXZWpnw_ZNjfFYqVloS/view?usp=drive_link\"\n",
    "destination_path = \"../data/transcript_01.csv\"\n",
    "download_file_from_drive(url, destination_path)"
   ]
  }
 ],
 "metadata": {
  "kernelspec": {
   "display_name": "torch2",
   "language": "python",
   "name": "python3"
  },
  "language_info": {
   "codemirror_mode": {
    "name": "ipython",
    "version": 3
   },
   "file_extension": ".py",
   "mimetype": "text/x-python",
   "name": "python",
   "nbconvert_exporter": "python",
   "pygments_lexer": "ipython3",
   "version": "3.11.5"
  }
 },
 "nbformat": 4,
 "nbformat_minor": 2
}
